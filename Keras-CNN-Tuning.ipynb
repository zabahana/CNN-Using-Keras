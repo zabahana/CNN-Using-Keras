{
 "cells": [
  {
   "cell_type": "markdown",
   "metadata": {},
   "source": [
    "# Introducing Keras\n",
    "\n",
    "Let's use Keras on the MNIST handwriting data set, using a Convolutional Neural Network that's suited for image processing. CNN's are less sensitive to where in the image the pattern is that we're looking for.\n",
    "\n",
    "We'll start by importing the stuff we need:"
   ]
  },
  {
   "cell_type": "code",
   "execution_count": 1,
   "metadata": {},
   "outputs": [],
   "source": [
    "import tensorflow\n",
    "from tensorflow.keras.datasets import mnist\n",
    "from tensorflow.keras.models import Sequential\n",
    "from tensorflow.keras.layers import Dense, Dropout, Conv2D, MaxPooling2D, Flatten\n",
    "from tensorflow.keras.optimizers import RMSprop"
   ]
  },
  {
   "cell_type": "markdown",
   "metadata": {},
   "source": [
    "We'll load up our raw data set:"
   ]
  },
  {
   "cell_type": "code",
   "execution_count": 2,
   "metadata": {},
   "outputs": [
    {
     "name": "stdout",
     "output_type": "stream",
     "text": [
      "Downloading data from https://storage.googleapis.com/tensorflow/tf-keras-datasets/mnist.npz\n",
      "11493376/11490434 [==============================] - 1s 0us/step\n"
     ]
    }
   ],
   "source": [
    "(mnist_train_images, mnist_train_labels), (mnist_test_images, mnist_test_labels) = mnist.load_data()"
   ]
  },
  {
   "cell_type": "markdown",
   "metadata": {},
   "source": [
    "Since we're treating the data as 2D images of 28x28 pixels, we need to shape it accordingly. Depending on the data format Keras is set up for, this may be 1x28x28 or 28x28x1 (the \"1\" indicates a single color channel, as this is just grayscale. If we were dealing with color images, it would be 3 instead of 1 since we'd have red, green, and blue color channels)"
   ]
  },
  {
   "cell_type": "code",
   "execution_count": 3,
   "metadata": {},
   "outputs": [],
   "source": [
    "from tensorflow.keras import backend as K\n",
    "\n",
    "if K.image_data_format() == 'channels_first':\n",
    "    train_images = mnist_train_images.reshape(mnist_train_images.shape[0], 1, 28, 28)\n",
    "    test_images = mnist_test_images.reshape(mnist_test_images.shape[0], 1, 28, 28)\n",
    "    input_shape = (1, 28, 28)\n",
    "else:\n",
    "    train_images = mnist_train_images.reshape(mnist_train_images.shape[0], 28, 28, 1)\n",
    "    test_images = mnist_test_images.reshape(mnist_test_images.shape[0], 28, 28, 1)\n",
    "    input_shape = (28, 28, 1)\n",
    "    \n",
    "train_images = train_images.astype('float32')\n",
    "test_images = test_images.astype('float32')\n",
    "train_images /= 255\n",
    "test_images /= 255"
   ]
  },
  {
   "cell_type": "markdown",
   "metadata": {},
   "source": [
    "We need to convert our train and test labels to be categorical in one-hot format:"
   ]
  },
  {
   "cell_type": "code",
   "execution_count": 4,
   "metadata": {},
   "outputs": [],
   "source": [
    "train_labels = tensorflow.keras.utils.to_categorical(mnist_train_labels, 10)\n",
    "test_labels = tensorflow.keras.utils.to_categorical(mnist_test_labels, 10)"
   ]
  },
  {
   "cell_type": "markdown",
   "metadata": {},
   "source": [
    "As a sanity check let's print out one of the training images with its label:"
   ]
  },
  {
   "cell_type": "code",
   "execution_count": 5,
   "metadata": {},
   "outputs": [
    {
     "name": "stdout",
     "output_type": "stream",
     "text": [
      "[0. 0. 0. 1. 0. 0. 0. 0. 0. 0.]\n"
     ]
    },
    {
     "data": {
      "image/png": "[encoded data removed]",
      "text/plain": [
       "<Figure size 432x288 with 1 Axes>"
      ]
     },
     "metadata": {
      "needs_background": "light"
     },
     "output_type": "display_data"
    }
   ],
   "source": [
    "%matplotlib inline\n",
    "import matplotlib.pyplot as plt\n",
    "\n",
    "def display_sample(num):\n",
    "    #Print the one-hot array of this sample's label \n",
    "    print(train_labels[num])  \n",
    "    #Print the label converted back to a number\n",
    "    label = train_labels[num].argmax(axis=0)\n",
    "    #Reshape the 768 values to a 28x28 image\n",
    "    image = train_images[num].reshape([28,28])\n",
    "    plt.title('Sample: %d  Label: %d' % (num, label))\n",
    "    plt.imshow(image, cmap=plt.get_cmap('gray_r'))\n",
    "    plt.show()\n",
    "    \n",
    "display_sample(1234)"
   ]
  },
  {
   "cell_type": "markdown",
   "metadata": {},
   "source": [
    "Now for the meat of the problem. Setting up a convolutional neural network involves more layers.\n",
    "\n",
    "We'll start with a 2D convolution of the image - it's set up to take 32 windows, or \"filters\", of each image, each filter being 3x3 in size.\n",
    "\n",
    "We then run a second convolution on top of that with 64 3x3 windows - this topology is just what comes recommended within Keras's own examples. Again you want to re-use previous research whenever possible while tuning CNN's, as it is hard to do.\n",
    "\n",
    "Next we apply a MaxPooling2D layer that takes the maximum of each 2x2 result to distill the results down into something more manageable.\n",
    "\n",
    "Next we flatten the 2D layer we have at this stage into a 1D layer. So at this point we can just pretend we have a traditional multi-layer perceptron...\n",
    "\n",
    "... and feed that into a hidden, flat layer of 128 units.\n",
    "\n",
    "\n",
    "And finally, we feed that into our final 10 units where softmax is applied to choose our category of 0-9."
   ]
  },
  {
   "cell_type": "code",
   "execution_count": 6,
   "metadata": {},
   "outputs": [],
   "source": [
    "model = Sequential()\n",
    "model.add(Conv2D(32, kernel_size=(3, 3),\n",
    "                 activation='relu',\n",
    "                 input_shape=input_shape))\n",
    "# 64 3x3 kernels\n",
    "model.add(Conv2D(64, (3, 3), activation='relu'))\n",
    "# Reduce by taking the max of each 2x2 block\n",
    "model.add(MaxPooling2D(pool_size=(2, 2)))\n",
    "# Flatten the results to one dimension for passing into our final layer\n",
    "model.add(Flatten())\n",
    "# A hidden layer to learn with\n",
    "model.add(Dense(128, activation='relu'))\n",
    "# Final categorization from 0-9 with softmax\n",
    "model.add(Dense(10, activation='softmax'))"
   ]
  },
  {
   "cell_type": "markdown",
   "metadata": {},
   "source": [
    "Let's double check the model description:"
   ]
  },
  {
   "cell_type": "code",
   "execution_count": 7,
   "metadata": {},
   "outputs": [
    {
     "name": "stdout",
     "output_type": "stream",
     "text": [
      "Model: \"sequential\"\n",
      "_________________________________________________________________\n",
      "Layer (type)                 Output Shape              Param #   \n",
      "=================================================================\n",
      "conv2d (Conv2D)              (None, 26, 26, 32)        320       \n",
      "_________________________________________________________________\n",
      "conv2d_1 (Conv2D)            (None, 24, 24, 64)        18496     \n",
      "_________________________________________________________________\n",
      "max_pooling2d (MaxPooling2D) (None, 12, 12, 64)        0         \n",
      "_________________________________________________________________\n",
      "flatten (Flatten)            (None, 9216)              0         \n",
      "_________________________________________________________________\n",
      "dense (Dense)                (None, 128)               1179776   \n",
      "_________________________________________________________________\n",
      "dense_1 (Dense)              (None, 10)                1290      \n",
      "=================================================================\n",
      "Total params: 1,199,882\n",
      "Trainable params: 1,199,882\n",
      "Non-trainable params: 0\n",
      "_________________________________________________________________\n"
     ]
    }
   ],
   "source": [
    "model.summary()"
   ]
  },
  {
   "cell_type": "markdown",
   "metadata": {},
   "source": [
    "We are doing multiple categorization, so categorical_crossentropy is still the right loss function to use. We'll use the Adam optimizer, although the example provided with Keras uses RMSProp. You might want to try both if you have time."
   ]
  },
  {
   "cell_type": "code",
   "execution_count": 8,
   "metadata": {},
   "outputs": [],
   "source": [
    "model.compile(loss='categorical_crossentropy',\n",
    "              optimizer='adam',\n",
    "              metrics=['accuracy'])"
   ]
  },
  {
   "cell_type": "markdown",
   "metadata": {},
   "source": [
    "And now we train our model... to make things go a little faster, we'll use batches of 32.\n",
    "\n",
    "## Warning\n",
    "\n",
    "This will take a few minutes to run on a p3.large instance."
   ]
  },
  {
   "cell_type": "code",
   "execution_count": 9,
   "metadata": {},
   "outputs": [
    {
     "name": "stdout",
     "output_type": "stream",
     "text": [
      "Epoch 1/10\n",
      "1875/1875 - 54s - loss: 0.1142 - accuracy: 0.9655 - val_loss: 0.0417 - val_accuracy: 0.9863\n",
      "Epoch 2/10\n",
      "1875/1875 - 58s - loss: 0.0364 - accuracy: 0.9889 - val_loss: 0.0366 - val_accuracy: 0.9880\n",
      "Epoch 3/10\n",
      "1875/1875 - 57s - loss: 0.0233 - accuracy: 0.9926 - val_loss: 0.0387 - val_accuracy: 0.9872\n",
      "Epoch 4/10\n",
      "1875/1875 - 63s - loss: 0.0145 - accuracy: 0.9955 - val_loss: 0.0458 - val_accuracy: 0.9855\n",
      "Epoch 5/10\n",
      "1875/1875 - 59s - loss: 0.0112 - accuracy: 0.9963 - val_loss: 0.0424 - val_accuracy: 0.9887\n",
      "Epoch 6/10\n",
      "1875/1875 - 60s - loss: 0.0087 - accuracy: 0.9968 - val_loss: 0.0446 - val_accuracy: 0.9889\n",
      "Epoch 7/10\n",
      "1875/1875 - 58s - loss: 0.0061 - accuracy: 0.9981 - val_loss: 0.0418 - val_accuracy: 0.9899\n",
      "Epoch 8/10\n",
      "1875/1875 - 54s - loss: 0.0053 - accuracy: 0.9982 - val_loss: 0.0510 - val_accuracy: 0.9889\n",
      "Epoch 9/10\n",
      "1875/1875 - 55s - loss: 0.0041 - accuracy: 0.9987 - val_loss: 0.0592 - val_accuracy: 0.9871\n",
      "Epoch 10/10\n",
      "1875/1875 - 55s - loss: 0.0047 - accuracy: 0.9984 - val_loss: 0.0483 - val_accuracy: 0.9897\n"
     ]
    }
   ],
   "source": [
    "history = model.fit(train_images, train_labels,\n",
    "                    batch_size=32,\n",
    "                    epochs=10,\n",
    "                    verbose=2,\n",
    "                    validation_data=(test_images, test_labels))"
   ]
  },
  {
   "cell_type": "markdown",
   "metadata": {},
   "source": [
    "So, you can see that we started overfitting pretty early on, as our accuracy on the test set started exceeding our accuracy on the validation set. Our validation accuracy maxed out at around 99.0% after just a couple of epochs, while our accuracy on the test set kept climbing.\n",
    "\n",
    "To prevent overfitting, we need to perform some sort of regularization. Dropout layers are one such technique in deep learning; they work by \"dropping out\" neurons on each pass to force learning to spread itself out across the network as a whole."
   ]
  },
  {
   "cell_type": "code",
   "execution_count": 10,
   "metadata": {},
   "outputs": [],
   "source": [
    "def MakeModel():\n",
    "    model = Sequential()\n",
    "    model.add(Conv2D(32, kernel_size=(3, 3),\n",
    "                     activation='relu',\n",
    "                     input_shape=input_shape))\n",
    "    # 64 3x3 kernels\n",
    "    model.add(Conv2D(64, (3, 3), activation='relu'))\n",
    "    # Reduce by taking the max of each 2x2 block\n",
    "    model.add(MaxPooling2D(pool_size=(2, 2)))\n",
    "    # Dropout to avoid overfitting\n",
    "    model.add(Dropout(0.25))\n",
    "    # Flatten the results to one dimension for passing into our final layer\n",
    "    model.add(Flatten())\n",
    "    # A hidden layer to learn with\n",
    "    model.add(Dense(128, activation='relu'))\n",
    "    # Another dropout\n",
    "    model.add(Dropout(0.5))\n",
    "    # Final categorization from 0-9 with softmax\n",
    "    model.add(Dense(10, activation='softmax'))\n",
    "    return model\n",
    "\n",
    "model = MakeModel()"
   ]
  },
  {
   "cell_type": "markdown",
   "metadata": {},
   "source": [
    "Let's run it again with those two dropout layers added in."
   ]
  },
  {
   "cell_type": "code",
   "execution_count": 11,
   "metadata": {},
   "outputs": [],
   "source": [
    "model.compile(loss='categorical_crossentropy',\n",
    "              optimizer='adam',\n",
    "              metrics=['accuracy'])"
   ]
  },
  {
   "cell_type": "code",
   "execution_count": 12,
   "metadata": {},
   "outputs": [
    {
     "name": "stdout",
     "output_type": "stream",
     "text": [
      "Train on 60000 samples, validate on 10000 samples\n",
      "Epoch 1/10\n",
      "60000/60000 - 14s - loss: 0.2002 - acc: 0.9395 - val_loss: 0.0430 - val_acc: 0.9860\n",
      "Epoch 2/10\n",
      "60000/60000 - 13s - loss: 0.0801 - acc: 0.9756 - val_loss: 0.0332 - val_acc: 0.9889\n",
      "Epoch 3/10\n",
      "60000/60000 - 13s - loss: 0.0638 - acc: 0.9808 - val_loss: 0.0299 - val_acc: 0.9905\n",
      "Epoch 4/10\n",
      "60000/60000 - 13s - loss: 0.0495 - acc: 0.9844 - val_loss: 0.0310 - val_acc: 0.9901\n",
      "Epoch 5/10\n",
      "60000/60000 - 13s - loss: 0.0424 - acc: 0.9867 - val_loss: 0.0294 - val_acc: 0.9916\n",
      "Epoch 6/10\n",
      "60000/60000 - 13s - loss: 0.0371 - acc: 0.9887 - val_loss: 0.0242 - val_acc: 0.9928\n",
      "Epoch 7/10\n",
      "60000/60000 - 13s - loss: 0.0337 - acc: 0.9900 - val_loss: 0.0338 - val_acc: 0.9902\n",
      "Epoch 8/10\n",
      "60000/60000 - 13s - loss: 0.0299 - acc: 0.9908 - val_loss: 0.0286 - val_acc: 0.9922\n",
      "Epoch 9/10\n",
      "60000/60000 - 13s - loss: 0.0271 - acc: 0.9918 - val_loss: 0.0290 - val_acc: 0.9916\n",
      "Epoch 10/10\n",
      "60000/60000 - 13s - loss: 0.0267 - acc: 0.9915 - val_loss: 0.0280 - val_acc: 0.9934\n"
     ]
    }
   ],
   "source": [
    "history = model.fit(train_images, train_labels,\n",
    "                    batch_size=32,\n",
    "                    epochs=10,\n",
    "                    verbose=2,\n",
    "                    validation_data=(test_images, test_labels))"
   ]
  },
  {
   "cell_type": "markdown",
   "metadata": {},
   "source": [
    "That's better; our train and test accuracy ended up about the same, at 99.2%. There may still be a tiny bit of overfitting going on, but it's a lot better.\n",
    "\n",
    "Let's also explore the effect the batch size has; as an experiment, let's increase it up to 1000:"
   ]
  },
  {
   "cell_type": "code",
   "execution_count": 14,
   "metadata": {},
   "outputs": [
    {
     "name": "stdout",
     "output_type": "stream",
     "text": [
      "Train on 60000 samples, validate on 10000 samples\n",
      "Epoch 1/10\n",
      "60000/60000 - 5s - loss: 0.5228 - acc: 0.8367 - val_loss: 0.1356 - val_acc: 0.9591\n",
      "Epoch 2/10\n",
      "60000/60000 - 5s - loss: 0.1576 - acc: 0.9541 - val_loss: 0.0656 - val_acc: 0.9791\n",
      "Epoch 3/10\n",
      "60000/60000 - 5s - loss: 0.1021 - acc: 0.9701 - val_loss: 0.0520 - val_acc: 0.9828\n",
      "Epoch 4/10\n",
      "60000/60000 - 5s - loss: 0.0794 - acc: 0.9770 - val_loss: 0.0429 - val_acc: 0.9857\n",
      "Epoch 5/10\n",
      "60000/60000 - 5s - loss: 0.0675 - acc: 0.9805 - val_loss: 0.0351 - val_acc: 0.9872\n",
      "Epoch 6/10\n",
      "60000/60000 - 5s - loss: 0.0574 - acc: 0.9819 - val_loss: 0.0343 - val_acc: 0.9875\n",
      "Epoch 7/10\n",
      "60000/60000 - 5s - loss: 0.0513 - acc: 0.9842 - val_loss: 0.0340 - val_acc: 0.9888\n",
      "Epoch 8/10\n",
      "60000/60000 - 5s - loss: 0.0456 - acc: 0.9858 - val_loss: 0.0340 - val_acc: 0.9886\n",
      "Epoch 9/10\n",
      "60000/60000 - 5s - loss: 0.0422 - acc: 0.9870 - val_loss: 0.0324 - val_acc: 0.9885\n",
      "Epoch 10/10\n",
      "60000/60000 - 5s - loss: 0.0384 - acc: 0.9878 - val_loss: 0.0305 - val_acc: 0.9899\n"
     ]
    }
   ],
   "source": [
    "model = MakeModel()\n",
    "\n",
    "model.compile(loss='categorical_crossentropy',\n",
    "              optimizer='adam',\n",
    "              metrics=['accuracy'])\n",
    "\n",
    "history = model.fit(train_images, train_labels,\n",
    "                    batch_size=1000,\n",
    "                    epochs=10,\n",
    "                    verbose=2,\n",
    "                    validation_data=(test_images, test_labels))"
   ]
  },
  {
   "cell_type": "markdown",
   "metadata": {},
   "source": [
    "If you run this block a few times, you'll probably get very different results. Large batch sizes tend to get stuck in \"local minima\", and converge on the wrong solution at random. Smaller batch sizes also have a regularization effect. Sometimes you'll get lucky and the large batch will converge on a good solution; other times, not so much.\n",
    "\n",
    "Let's explore the effect of the learning rate. The default learning rate for Adam is 0.001; let's see what happens if we increase it by an order of magnitude to 0.01:"
   ]
  },
  {
   "cell_type": "code",
   "execution_count": 19,
   "metadata": {},
   "outputs": [],
   "source": [
    "model = MakeModel()\n",
    "\n",
    "model.compile(loss='categorical_crossentropy',\n",
    "              optimizer='adam',\n",
    "              metrics=['accuracy'])\n",
    "\n",
    "adam = tensorflow.keras.optimizers.Adam(learning_rate=0.01)\n",
    "\n",
    "model.compile(loss='categorical_crossentropy',\n",
    "              optimizer=adam,\n",
    "              metrics=['accuracy'])"
   ]
  },
  {
   "cell_type": "code",
   "execution_count": 20,
   "metadata": {},
   "outputs": [
    {
     "name": "stdout",
     "output_type": "stream",
     "text": [
      "Train on 60000 samples, validate on 10000 samples\n",
      "Epoch 1/10\n",
      "60000/60000 - 14s - loss: 0.6022 - acc: 0.8092 - val_loss: 0.2194 - val_acc: 0.9310\n",
      "Epoch 2/10\n",
      "60000/60000 - 13s - loss: 0.4404 - acc: 0.8649 - val_loss: 0.1900 - val_acc: 0.9447\n",
      "Epoch 3/10\n",
      "60000/60000 - 13s - loss: 0.4128 - acc: 0.8720 - val_loss: 0.1991 - val_acc: 0.9378\n",
      "Epoch 4/10\n",
      "60000/60000 - 13s - loss: 0.3939 - acc: 0.8781 - val_loss: 0.1523 - val_acc: 0.9529\n",
      "Epoch 5/10\n",
      "60000/60000 - 13s - loss: 0.3925 - acc: 0.8792 - val_loss: 0.1614 - val_acc: 0.9504\n",
      "Epoch 6/10\n",
      "60000/60000 - 13s - loss: 0.3821 - acc: 0.8848 - val_loss: 0.1778 - val_acc: 0.9453\n",
      "Epoch 7/10\n",
      "60000/60000 - 13s - loss: 0.3787 - acc: 0.8839 - val_loss: 0.1638 - val_acc: 0.9515\n",
      "Epoch 8/10\n",
      "60000/60000 - 13s - loss: 0.3734 - acc: 0.8856 - val_loss: 0.1787 - val_acc: 0.9491\n",
      "Epoch 9/10\n",
      "60000/60000 - 13s - loss: 0.3688 - acc: 0.8893 - val_loss: 0.1564 - val_acc: 0.9522\n",
      "Epoch 10/10\n",
      "60000/60000 - 13s - loss: 0.3652 - acc: 0.8899 - val_loss: 0.1497 - val_acc: 0.9530\n"
     ]
    }
   ],
   "source": [
    "history = model.fit(train_images, train_labels,\n",
    "                    batch_size=32,\n",
    "                    epochs=10,\n",
    "                    verbose=2,\n",
    "                    validation_data=(test_images, test_labels))"
   ]
  },
  {
   "cell_type": "markdown",
   "metadata": {},
   "source": [
    "Yikes! That had a huge, and terrible, effect on the results. Small batch sizes are best paired with low learning rates, and large learning rates have a tendency to overshoot the correct solution entirely - which is probably what happened here. The learning rate is an example of a hyperparameter that you might want to tune by just trying different values."
   ]
  },
  {
   "cell_type": "code",
   "execution_count": null,
   "metadata": {},
   "outputs": [],
   "source": []
  }
 ],
 "metadata": {
  "kernelspec": {
   "display_name": "Python 3",
   "language": "python",
   "name": "python3"
  },
  "language_info": {
   "codemirror_mode": {
    "name": "ipython",
    "version": 3
   },
   "file_extension": ".py",
   "mimetype": "text/x-python",
   "name": "python",
   "nbconvert_exporter": "python",
   "pygments_lexer": "ipython3",
   "version": "3.7.3"
  },
  "widgets": {
   "state": {},
   "version": "1.1.2"
  }
 },
 "nbformat": 4,
 "nbformat_minor": 2
}
